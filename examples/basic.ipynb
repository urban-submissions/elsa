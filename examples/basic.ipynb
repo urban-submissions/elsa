{
 "cells": [
  {
   "cell_type": "code",
   "execution_count": 1,
   "id": "initial_id",
   "metadata": {
    "collapsed": true,
    "ExecuteTime": {
     "end_time": "2024-05-06T08:25:06.122762Z",
     "start_time": "2024-05-06T08:25:04.777864Z"
    }
   },
   "source": [
    "import os.path\n",
    "\n",
    "from sirius import Sirius\n",
    "# replace with your own path\n",
    "files = '/home/arstneio/PycharmProjects/sirius/src/sirius/static/bing/files'\n",
    "if not os.path.exists(files):\n",
    "    files = None\n",
    "# sirius = Sirius.from_google(files=files)\n",
    "sirius = Sirius.from_bing(files=files)\n",
    "sirius\n",
    "\n"
   ],
   "outputs": []
  },
  {
   "cell_type": "code",
   "source": [
    "sirius.truth"
   ],
   "metadata": {
    "collapsed": false,
    "ExecuteTime": {
     "end_time": "2024-05-06T08:16:30.095428Z",
     "start_time": "2024-05-06T08:16:30.019237Z"
    }
   },
   "id": "8d9e7f33e85486fa",
   "execution_count": 2,
   "outputs": []
  },
  {
   "cell_type": "code",
   "source": [
    "sirius.predictions"
   ],
   "metadata": {
    "collapsed": false,
    "ExecuteTime": {
     "end_time": "2024-05-06T08:16:35.193770Z",
     "start_time": "2024-05-06T08:16:34.853256Z"
    }
   },
   "id": "3edc1b4293d9fe92",
   "execution_count": 3,
   "outputs": []
  },
  {
   "cell_type": "code",
   "source": [
    "sirius.files"
   ],
   "metadata": {
    "collapsed": false,
    "ExecuteTime": {
     "end_time": "2024-05-06T08:16:52.773231Z",
     "start_time": "2024-05-06T08:16:52.730193Z"
    }
   },
   "id": "449d3e0b973201de",
   "execution_count": 4,
   "outputs": []
  },
  {
   "cell_type": "code",
   "source": [
    "sirius.images"
   ],
   "metadata": {
    "collapsed": false,
    "ExecuteTime": {
     "end_time": "2024-05-06T08:16:57.724598Z",
     "start_time": "2024-05-06T08:16:57.707976Z"
    }
   },
   "id": "7e08810ede43513b",
   "execution_count": 5,
   "outputs": []
  },
  {
   "cell_type": "code",
   "source": [
    "sirius.labels"
   ],
   "metadata": {
    "collapsed": false,
    "ExecuteTime": {
     "end_time": "2024-05-06T08:17:02.217581Z",
     "start_time": "2024-05-06T08:17:02.196708Z"
    }
   },
   "id": "4715d806cc2cb73d",
   "execution_count": 6,
   "outputs": []
  },
  {
   "cell_type": "code",
   "source": [
    "sirius.synonyms"
   ],
   "metadata": {
    "collapsed": false,
    "ExecuteTime": {
     "end_time": "2024-05-06T08:25:48.390974Z",
     "start_time": "2024-05-06T08:25:48.368222Z"
    }
   },
   "id": "817919ce0821556d",
   "execution_count": 3,
   "outputs": []
  },
  {
   "cell_type": "code",
   "source": [
    "sirius.truth.combos"
   ],
   "metadata": {
    "collapsed": false,
    "ExecuteTime": {
     "end_time": "2024-05-06T08:29:33.364348Z",
     "start_time": "2024-05-06T08:29:32.778276Z"
    }
   },
   "id": "61b3acf28c79e317",
   "execution_count": 4,
   "outputs": []
  },
  {
   "cell_type": "code",
   "source": [
    "# right now the combined multilabels are incorrect :( \n",
    "sirius.predictions.combos"
   ],
   "metadata": {
    "collapsed": false,
    "ExecuteTime": {
     "end_time": "2024-05-06T08:18:20.106028Z",
     "start_time": "2024-05-06T08:18:19.325230Z"
    }
   },
   "id": "ad4679eb35b4d34f",
   "execution_count": 9,
   "outputs": []
  },
  {
   "cell_type": "code",
   "source": [
    "sirius.predictions.combos.view()"
   ],
   "metadata": {
    "collapsed": false,
    "ExecuteTime": {
     "end_time": "2024-05-06T08:25:11.101497Z",
     "start_time": "2024-05-06T08:25:09.837996Z"
    }
   },
   "id": "3bf1d13c11ef142e",
   "execution_count": 2,
   "outputs": []
  }
 ],
 "metadata": {
  "kernelspec": {
   "display_name": "Python 3",
   "language": "python",
   "name": "python3"
  },
  "language_info": {
   "codemirror_mode": {
    "name": "ipython",
    "version": 2
   },
   "file_extension": ".py",
   "mimetype": "text/x-python",
   "name": "python",
   "nbconvert_exporter": "python",
   "pygments_lexer": "ipython2",
   "version": "2.7.6"
  }
 },
 "nbformat": 4,
 "nbformat_minor": 5
}
