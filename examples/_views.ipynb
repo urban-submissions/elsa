{
 "cells": [
  {
   "cell_type": "code",
   "execution_count": null,
   "id": "initial_id",
   "metadata": {
    "collapsed": true
   },
   "source": [
    "from sirius import Sirius\n",
    "# replace with your own directories for the image files\n",
    "bing = '/home/arstneio/Downloads/Labels_1K/bing/COCO/images/'\n",
    "google = '/home/arstneio/Downloads/Labels_1K/google/COCO/images/'\n",
    "unified = bing, google  \n",
    "sirius = Sirius.from_unified(files=unified)\n",
    "truth = sirius.truth.combos\n",
    "truth"
   ],
   "outputs": []
  },
  {
   "cell_type": "code",
   "source": [
    "# view the first image\n",
    "truth.view()"
   ],
   "metadata": {
    "collapsed": false
   },
   "id": "44d8566a54f08756",
   "execution_count": null,
   "outputs": []
  },
  {
   "cell_type": "code",
   "source": [
    "# view GSV_98\n",
    "truth.view('GSV_98')"
   ],
   "metadata": {
    "collapsed": false
   },
   "id": "5cbcccbb3f42b283",
   "execution_count": null,
   "outputs": []
  },
  {
   "cell_type": "code",
   "source": [
    "# view all the images where 'standing' and 'sitting' are in the same combo\n",
    "loc = truth.includes('sitting')\n",
    "loc &= truth.includes('standing')\n",
    "views = truth.views(loc)"
   ],
   "metadata": {
    "collapsed": false
   },
   "id": "442609735832d170",
   "execution_count": null,
   "outputs": []
  },
  {
   "cell_type": "code",
   "source": [
    "next(views)"
   ],
   "metadata": {
    "collapsed": false
   },
   "id": "3dedad23b0efe3ad",
   "execution_count": null,
   "outputs": []
  },
  {
   "cell_type": "code",
   "source": [
    "next(views)"
   ],
   "metadata": {
    "collapsed": false
   },
   "id": "48289fcb235f660a",
   "execution_count": null,
   "outputs": []
  },
  {
   "cell_type": "code",
   "source": [
    "next(views)"
   ],
   "metadata": {
    "collapsed": false
   },
   "id": "5cd15813dc2ef50e",
   "execution_count": null,
   "outputs": []
  },
  {
   "cell_type": "code",
   "source": [
    "# view where there's 3 or more activities in the same combo\n",
    "\n",
    "# first boolean mask the labels\n",
    "loc = sirius.truth.meta == 'activity'   \n",
    "# broadcast the mask to the combos\n",
    "loc = sirius.truth.combos.get_nunique_labels(loc) >= 2\n",
    "# get the views\n",
    "views = sirius.truth.combos.views(loc)"
   ],
   "metadata": {
    "collapsed": false
   },
   "id": "1d6fac947628b8ad",
   "execution_count": null,
   "outputs": []
  },
  {
   "cell_type": "code",
   "source": [
    "next(views)"
   ],
   "metadata": {
    "collapsed": false
   },
   "id": "68c710a7a9cc269",
   "execution_count": null,
   "outputs": []
  },
  {
   "cell_type": "code",
   "source": [
    "next(views)\n"
   ],
   "metadata": {
    "collapsed": false
   },
   "id": "129e156bab4c806c",
   "execution_count": null,
   "outputs": []
  },
  {
   "cell_type": "code",
   "source": [
    "Sirius.from_unified(truth=..., labels=..., images=..., predictions=..., files=...)"
   ],
   "metadata": {
    "collapsed": false
   },
   "id": "6b94c5deb035a925",
   "execution_count": null,
   "outputs": []
  }
 ],
 "metadata": {
  "kernelspec": {
   "display_name": "Python 3",
   "language": "python",
   "name": "python3"
  },
  "language_info": {
   "codemirror_mode": {
    "name": "ipython",
    "version": 2
   },
   "file_extension": ".py",
   "mimetype": "text/x-python",
   "name": "python",
   "nbconvert_exporter": "python",
   "pygments_lexer": "ipython2",
   "version": "2.7.6"
  }
 },
 "nbformat": 4,
 "nbformat_minor": 5
}
