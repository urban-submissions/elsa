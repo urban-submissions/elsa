{
 "cells": [
  {
   "cell_type": "code",
   "execution_count": 1,
   "id": "d3b08a02",
   "metadata": {},
   "source": [
    "import pandas as pd\n",
    "import numpy as np"
   ],
   "outputs": []
  },
  {
   "cell_type": "code",
   "execution_count": 2,
   "id": "7e61c6eb",
   "metadata": {},
   "source": [
    "def converter(instr):\n",
    "    return np.fromstring(instr[1:-1],sep=',', dtype=int)"
   ],
   "outputs": []
  },
  {
   "cell_type": "code",
   "execution_count": 3,
   "id": "27c11900",
   "metadata": {},
   "source": [
    "bing_label_ids_path = '../../gt_data/triple_inspected_May23rd/bing/label_idx.csv'\n",
    "google_label_ids_path = '../../gt_data/triple_inspected_May23rd/google/label_idx.csv'\n",
    "\n",
    "bing_labels_dict = {}\n",
    "\n",
    "df = pd.read_csv(bing_label_ids_path)\n",
    "\n",
    "for i, row in df.iterrows():\n",
    "    label = row['label'].lower()\n",
    "    ilabel = row['ilabel']\n",
    "    if label in bing_labels_dict:\n",
    "        raise ValueError(\"Label happening multiple times!\")\n",
    "    bing_labels_dict[label] = ilabel\n",
    "    \n",
    "google_labels_dict = {}\n",
    "\n",
    "df = pd.read_csv(google_label_ids_path)\n",
    "\n",
    "for i, row in df.iterrows():\n",
    "    label = row['label'].lower()\n",
    "    ilabel = row['ilabel']\n",
    "    if label in google_labels_dict:\n",
    "        raise ValueError(\"Label happening multiple times!\")\n",
    "    google_labels_dict[label] = ilabel"
   ],
   "outputs": []
  },
  {
   "cell_type": "code",
   "execution_count": 4,
   "id": "6787f901",
   "metadata": {},
   "source": [
    "print(len(bing_labels_dict))\n",
    "print(len(google_labels_dict))"
   ],
   "outputs": []
  },
  {
   "cell_type": "code",
   "execution_count": 5,
   "id": "27d87de5",
   "metadata": {},
   "source": [
    "bing_labels_dict['not sure/confusing']"
   ],
   "outputs": []
  },
  {
   "cell_type": "code",
   "execution_count": 6,
   "id": "723c98a9",
   "metadata": {},
   "source": [
    "google_labels_dict['not sure/confusing']"
   ],
   "outputs": []
  },
  {
   "cell_type": "code",
   "execution_count": 31,
   "id": "31893b11",
   "metadata": {},
   "source": [
    "bing_labels_dict"
   ],
   "outputs": []
  },
  {
   "cell_type": "markdown",
   "id": "46fbaf13",
   "metadata": {},
   "source": [
    "# Finalized labels list in order, i.e., conditions , states, activities, others"
   ]
  },
  {
   "cell_type": "markdown",
   "id": "e3eb224d",
   "metadata": {},
   "source": [
    "### label -> ids"
   ]
  },
  {
   "cell_type": "code",
   "execution_count": 7,
   "id": "e5f25309",
   "metadata": {},
   "source": [
    "all_labels = set(bing_labels_dict.keys()).union(set(google_labels_dict.keys()))"
   ],
   "outputs": []
  },
  {
   "cell_type": "code",
   "execution_count": 8,
   "id": "61779914",
   "metadata": {},
   "source": [
    "len(all_labels)"
   ],
   "outputs": []
  },
  {
   "cell_type": "code",
   "execution_count": 9,
   "id": "abf0ce02",
   "metadata": {},
   "source": [
    "all_labels"
   ],
   "outputs": []
  },
  {
   "cell_type": "code",
   "execution_count": 10,
   "id": "9b9f04a3",
   "metadata": {},
   "source": [
    "conditions = ['alone', 'group', 'couple/2people']\n",
    "states = ['on wheelchair', 'sitting', 'standing', 'walking', 'running', 'biking', 'mobility aids', 'riding carriage', 'riding motorcycle']\n",
    "others = ['with luggage', 'with coffee or drinks', 'with bike', 'pet', 'kid', 'police', 'teenager', 'elderly', 'baby/infant']\n",
    "to_be_removed = ['model_hint', 'multi-label', 'duplicate', 'no people', 'not sure/confusing', 'no interaction', 'skating']\n",
    "activities = list(all_labels - set(conditions) - set(states) - set(others) - set(to_be_removed))\n",
    "activities"
   ],
   "outputs": []
  },
  {
   "cell_type": "code",
   "execution_count": 11,
   "id": "7f40bf0e",
   "metadata": {},
   "source": [
    "finalalized_labels = conditions + states + activities + others\n",
    "finalalized_labels"
   ],
   "outputs": []
  },
  {
   "cell_type": "code",
   "execution_count": 12,
   "id": "8ccea45b",
   "metadata": {},
   "source": [
    "finalalized_labels_dict = {}\n",
    "for i, l in enumerate(finalalized_labels):\n",
    "    finalalized_labels_dict[l] = i\n",
    "finalalized_labels_dict"
   ],
   "outputs": []
  },
  {
   "cell_type": "code",
   "execution_count": 13,
   "id": "297bf9e1",
   "metadata": {},
   "source": [
    "import pickle\n",
    "\n",
    "path = '../../gt_data/triple_inspected_May23rd/merged/label_id_dict.pickle'\n",
    "with open(path, 'wb') as f:\n",
    "    pickle.dump(finalalized_labels_dict, f)"
   ],
   "outputs": []
  },
  {
   "cell_type": "code",
   "execution_count": 13,
   "id": "7436249a",
   "metadata": {},
   "source": [
    "import pickle\n",
    "\n",
    "path = '../../gt_data/merged/label_id_dict.pickle'\n",
    "with open(path, 'rb') as f:\n",
    "    finalalized_labels_dict = pickle.load(f)"
   ],
   "outputs": []
  },
  {
   "cell_type": "markdown",
   "id": "ca72f2d2",
   "metadata": {},
   "source": [
    "### label_id -> category_type"
   ]
  },
  {
   "cell_type": "code",
   "execution_count": 14,
   "id": "719c2128",
   "metadata": {},
   "source": [
    "ids_category_dict = {}\n",
    "for label in conditions:\n",
    "    l_id = finalalized_labels_dict[label]\n",
    "    ids_category_dict[l_id] = 'condition'\n",
    "\n",
    "for label in states:\n",
    "    l_id = finalalized_labels_dict[label]\n",
    "    ids_category_dict[l_id] = 'state'\n",
    "    \n",
    "for label in activities:\n",
    "    l_id = finalalized_labels_dict[label]\n",
    "    ids_category_dict[l_id] = 'activity'\n",
    "\n",
    "for label in others:\n",
    "    l_id = finalalized_labels_dict[label]\n",
    "    ids_category_dict[l_id] = 'other'"
   ],
   "outputs": []
  },
  {
   "cell_type": "code",
   "execution_count": 15,
   "id": "59d86a7b",
   "metadata": {},
   "source": [
    "ids_category_dict"
   ],
   "outputs": []
  },
  {
   "cell_type": "code",
   "execution_count": 16,
   "id": "09212a4e",
   "metadata": {},
   "source": [
    "import pickle\n",
    "\n",
    "path = '../../gt_data/triple_inspected_May23rd/merged/labelId_categoryType_dict.pickle'\n",
    "with open(path, 'wb') as f:\n",
    "    pickle.dump(ids_category_dict, f)"
   ],
   "outputs": []
  },
  {
   "cell_type": "markdown",
   "id": "4c71a6a6",
   "metadata": {},
   "source": [
    "# Add \"is_challenging\" column"
   ]
  },
  {
   "cell_type": "code",
   "execution_count": 17,
   "id": "df085eb1",
   "metadata": {},
   "source": [
    "bing_gt_bbox_labels_path = '../../gt_data/triple_inspected_May23rd/bing/per_file_per_box.csv'\n",
    "bing_gt_bbox_labels = pd.read_csv(bing_gt_bbox_labels_path, converters={'ilabel':converter})\n",
    "\n",
    "google_gt_bbox_labels_path = '../../gt_data/triple_inspected_May23rd/google/per_file_per_box.csv'\n",
    "google_gt_bbox_labels = pd.read_csv(google_gt_bbox_labels_path, converters={'ilabel':converter})"
   ],
   "outputs": []
  },
  {
   "cell_type": "code",
   "execution_count": 18,
   "id": "495072ec",
   "metadata": {},
   "source": [
    "def bing_set_is_challenging(label_ids):\n",
    "    confusing_id = bing_labels_dict['not sure/confusing']\n",
    "    if confusing_id in label_ids:\n",
    "        return True\n",
    "    return False\n",
    "\n",
    "def google_set_is_challenging(label_ids):\n",
    "    confusing_id = google_labels_dict['not sure/confusing']\n",
    "    if confusing_id in label_ids:\n",
    "        return True\n",
    "    return False"
   ],
   "outputs": []
  },
  {
   "cell_type": "code",
   "execution_count": 19,
   "id": "40fd4c79",
   "metadata": {},
   "source": [
    "bing_gt_bbox_labels['is_challenging'] = bing_gt_bbox_labels['ilabel'].apply(lambda x: bing_set_is_challenging(x))\n",
    "google_gt_bbox_labels['is_challenging'] = google_gt_bbox_labels['ilabel'].apply(lambda x: google_set_is_challenging(x))"
   ],
   "outputs": []
  },
  {
   "cell_type": "code",
   "execution_count": 20,
   "id": "ba6edade",
   "metadata": {},
   "source": [
    "bing_gt_bbox_labels['is_challenging'].sum()"
   ],
   "outputs": []
  },
  {
   "cell_type": "code",
   "execution_count": 21,
   "id": "156c862b",
   "metadata": {},
   "source": [
    "google_gt_bbox_labels['is_challenging'].sum()"
   ],
   "outputs": []
  },
  {
   "cell_type": "markdown",
   "id": "490d9c00",
   "metadata": {},
   "source": [
    "# Remove unwanted labels from bing and google"
   ]
  },
  {
   "cell_type": "code",
   "execution_count": 22,
   "id": "1989f4bc",
   "metadata": {},
   "source": [
    "bing_to_be_removed_label_ids = [bing_labels_dict[l] for l in to_be_removed if l in bing_labels_dict]\n",
    "google_to_be_removed_label_ids = [google_labels_dict[l] for l in to_be_removed if l in google_labels_dict]\n",
    "\n",
    "def bing_remove_unwanted_labels(label_ids):\n",
    "    label_ids = [l_id for l_id in label_ids if l_id not in bing_to_be_removed_label_ids]\n",
    "    \n",
    "    return label_ids\n",
    "\n",
    "def google_remove_unwanted_labels(label_ids):\n",
    "    label_ids = [l_id for l_id in label_ids if l_id not in google_to_be_removed_label_ids]\n",
    "    \n",
    "    return label_ids"
   ],
   "outputs": []
  },
  {
   "cell_type": "code",
   "execution_count": 23,
   "id": "dbc42554",
   "metadata": {},
   "source": [
    "bing_gt_bbox_labels['ilabel'] = bing_gt_bbox_labels['ilabel'].apply(lambda x: bing_remove_unwanted_labels(x))\n",
    "google_gt_bbox_labels['ilabel'] = google_gt_bbox_labels['ilabel'].apply(lambda x: google_remove_unwanted_labels(x))"
   ],
   "outputs": []
  },
  {
   "cell_type": "markdown",
   "id": "981016a7",
   "metadata": {},
   "source": [
    "#### Check if any ilabel array is empty"
   ]
  },
  {
   "cell_type": "code",
   "execution_count": 24,
   "id": "7b0b46b1",
   "metadata": {},
   "source": [
    "bing_is_empty = bing_gt_bbox_labels['ilabel'].apply(lambda x: True if len(x)==0 else False)\n",
    "bing_is_empty.sum()"
   ],
   "outputs": []
  },
  {
   "cell_type": "code",
   "execution_count": 25,
   "id": "fb56417d",
   "metadata": {},
   "source": [
    "google_is_empty = google_gt_bbox_labels['ilabel'].apply(lambda x: True if len(x)==0 else False)\n",
    "google_is_empty.sum()"
   ],
   "outputs": []
  },
  {
   "cell_type": "markdown",
   "id": "f6af0b1e",
   "metadata": {},
   "source": [
    "# Unify labels: map bing and google ids to the finalized label ids"
   ]
  },
  {
   "cell_type": "markdown",
   "id": "7fb059a3",
   "metadata": {},
   "source": [
    "### get id->label dict"
   ]
  },
  {
   "cell_type": "code",
   "execution_count": 26,
   "id": "476327e8",
   "metadata": {},
   "source": [
    "bing_id_label_dict = {v: k for k, v in bing_labels_dict.items()}\n",
    "google_id_label_dict = {v: k for k, v in google_labels_dict.items()}"
   ],
   "outputs": []
  },
  {
   "cell_type": "code",
   "execution_count": 27,
   "id": "7d59707c",
   "metadata": {},
   "source": [
    "def bing_replace_labelids_with_finalized_ids(label_ids):\n",
    "    new_label_ids = []\n",
    "    for l_id in label_ids:\n",
    "        label = bing_id_label_dict[l_id]\n",
    "        finalized_id = finalalized_labels_dict[label]\n",
    "        new_label_ids.append(finalized_id)\n",
    "    return new_label_ids\n",
    "\n",
    "def google_replace_labelids_with_finalized_ids(label_ids):\n",
    "    new_label_ids = []\n",
    "    for l_id in label_ids:\n",
    "        label = google_id_label_dict[l_id]\n",
    "        finalized_id = finalalized_labels_dict[label]\n",
    "        new_label_ids.append(finalized_id)\n",
    "    return new_label_ids"
   ],
   "outputs": []
  },
  {
   "cell_type": "code",
   "execution_count": 28,
   "id": "7ce1ec83",
   "metadata": {},
   "source": [
    "bing_gt_bbox_labels['ilabel'][0]"
   ],
   "outputs": []
  },
  {
   "cell_type": "code",
   "execution_count": 29,
   "id": "b0507885",
   "metadata": {},
   "source": [
    "bing_gt_bbox_labels['ilabel'] = bing_gt_bbox_labels['ilabel'].apply(lambda x: bing_replace_labelids_with_finalized_ids(x))\n",
    "google_gt_bbox_labels['ilabel'] = google_gt_bbox_labels['ilabel'].apply(lambda x: google_replace_labelids_with_finalized_ids(x))"
   ],
   "outputs": []
  },
  {
   "cell_type": "code",
   "execution_count": 30,
   "id": "e028bc70",
   "metadata": {},
   "source": [
    "bing_gt_bbox_labels['ilabel'][0]"
   ],
   "outputs": []
  },
  {
   "cell_type": "code",
   "execution_count": 32,
   "id": "82f173e2",
   "metadata": {},
   "source": [
    "path = '../../gt_data/triple_inspected_May23rd/bing/label_per_box_sanity_checked_removed_unwanted_labels_unified_labels.csv'\n",
    "bing_gt_bbox_labels.to_csv(path, index=False)\n",
    "\n",
    "path = '../../gt_data/triple_inspected_May23rd/google/label_per_box_sanity_checked_removed_unwanted_labels_unified_labels.csv'\n",
    "google_gt_bbox_labels.to_csv(path, index=False)"
   ],
   "outputs": []
  },
  {
   "cell_type": "markdown",
   "id": "80195d7c",
   "metadata": {},
   "source": [
    "# Concatenate google and bing into one single df"
   ]
  },
  {
   "cell_type": "code",
   "execution_count": 33,
   "id": "b37bd979",
   "metadata": {},
   "source": [
    "bing_gt_bbox_labels['data_source'] = 'BSV'\n",
    "google_gt_bbox_labels['data_source'] = 'GSV'"
   ],
   "outputs": []
  },
  {
   "cell_type": "code",
   "execution_count": 34,
   "id": "32875ffa",
   "metadata": {},
   "source": [
    "final_df = pd.concat([bing_gt_bbox_labels, google_gt_bbox_labels], ignore_index=True)\n",
    "final_df = final_df.drop('Unnamed: 0', axis=1)\n",
    "final_df.tail()"
   ],
   "outputs": []
  },
  {
   "cell_type": "code",
   "execution_count": 35,
   "id": "fc974553",
   "metadata": {},
   "source": [
    "final_df.shape"
   ],
   "outputs": []
  },
  {
   "cell_type": "code",
   "execution_count": 36,
   "id": "bed1574b",
   "metadata": {},
   "source": [
    "final_df['is_challenging'].sum()"
   ],
   "outputs": []
  },
  {
   "cell_type": "code",
   "execution_count": 37,
   "id": "6eec278f",
   "metadata": {},
   "source": [
    "path = '../../gt_data/triple_inspected_May23rd/merged/label_per_box_sanity_checked_removed_unwanted_labels_unified_labels.csv'\n",
    "final_df.to_csv(path, index=False)"
   ],
   "outputs": []
  }
 ],
 "metadata": {
  "kernelspec": {
   "display_name": "Python 3 (ipykernel)",
   "language": "python",
   "name": "python3"
  },
  "language_info": {
   "codemirror_mode": {
    "name": "ipython",
    "version": 3
   },
   "file_extension": ".py",
   "mimetype": "text/x-python",
   "name": "python",
   "nbconvert_exporter": "python",
   "pygments_lexer": "ipython3",
   "version": "3.10.12"
  }
 },
 "nbformat": 4,
 "nbformat_minor": 5
}
