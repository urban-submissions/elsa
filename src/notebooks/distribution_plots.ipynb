{
 "cells": [
  {
   "cell_type": "code",
   "execution_count": 1,
   "id": "b9d02e4c",
   "metadata": {},
   "source": [
    "import pandas as pd\n",
    "import numpy as np\n",
    "import seaborn as sns"
   ],
   "outputs": []
  },
  {
   "cell_type": "code",
   "execution_count": 2,
   "id": "8d048aa5",
   "metadata": {},
   "source": [
    "def converter(instr):\n",
    "    return np.fromstring(instr[1:-1],sep=',', dtype=int)"
   ],
   "outputs": []
  },
  {
   "cell_type": "code",
   "execution_count": 3,
   "id": "eb16e96a",
   "metadata": {},
   "source": [
    "path = '../../gt_data/triple_inspected_May23rd/merged/label_per_box_sanity_checked_removed_unwanted_labels_unified_labels.csv'\n",
    "#df = pd.read_csv(path, converters={'ilabel':converter})\n",
    "df = pd.read_csv(path)\n",
    "df.head()"
   ],
   "outputs": []
  },
  {
   "cell_type": "code",
   "execution_count": 4,
   "id": "10794a41",
   "metadata": {},
   "source": [
    "df.shape"
   ],
   "outputs": []
  },
  {
   "cell_type": "code",
   "execution_count": 5,
   "id": "9bf7525c",
   "metadata": {},
   "source": [
    "from collections import Counter\n",
    "\n",
    "\n",
    "def label_per_box(df):\n",
    "    grouped = (df.groupby(\n",
    "            ['ifile', 'normx', 'normy', 'normwidth', 'normheight'])['ilabel']\n",
    "               .unique()\n",
    "               .reset_index())\n",
    "    grouped['ilabel'] = grouped['ilabel'].apply(lambda x: sorted([i for i in x]))\n",
    "    grouped['num_labels'] = [len(leb) for leb in grouped.ilabel]\n",
    "    return grouped\n",
    "\n",
    "def combo_freq(df):\n",
    "    gr = label_per_box(df)\n",
    "    gr['labels_tuple'] = gr['ilabel'].apply(tuple)\n",
    "    label_comb_counter = Counter(gr['labels_tuple'])\n",
    "    label_comb_df = pd.DataFrame(label_comb_counter.items(),\n",
    "                                 columns=['Label Combination', 'Frequency'])\n",
    "    return label_comb_df\n"
   ],
   "outputs": []
  },
  {
   "cell_type": "code",
   "execution_count": 6,
   "id": "6e90f544",
   "metadata": {},
   "source": [
    "freqs = combo_freq(df)"
   ],
   "outputs": []
  },
  {
   "cell_type": "code",
   "execution_count": 7,
   "id": "b30c6c26",
   "metadata": {},
   "source": [
    "freqs"
   ],
   "outputs": []
  },
  {
   "cell_type": "code",
   "execution_count": 8,
   "id": "2db834b9",
   "metadata": {},
   "source": [
    "freqs['Frequency'].max()"
   ],
   "outputs": []
  },
  {
   "cell_type": "code",
   "execution_count": 9,
   "id": "b304aaa4",
   "metadata": {},
   "source": [
    "freqs = freqs.sort_values('Frequency', ascending=False, ignore_index=True)"
   ],
   "outputs": []
  },
  {
   "cell_type": "code",
   "execution_count": 10,
   "id": "0c4d5790",
   "metadata": {},
   "source": [
    "sns.barplot(freqs, x='Label Combination', y='Frequency')"
   ],
   "outputs": []
  },
  {
   "cell_type": "code",
   "execution_count": 11,
   "id": "0e0f0dfe",
   "metadata": {},
   "source": [
    "freqs[freqs['Frequency']==1296]"
   ],
   "outputs": []
  },
  {
   "cell_type": "code",
   "execution_count": 12,
   "id": "356579ed",
   "metadata": {},
   "source": [
    "import pickle\n",
    "\n",
    "with open('../../gt_data/triple_inspected_May23rd/merged/label_id_dict.pickle', 'rb') as f:\n",
    "    labels_dict = pickle.load(f)"
   ],
   "outputs": []
  },
  {
   "cell_type": "code",
   "execution_count": 13,
   "id": "1854b8b9",
   "metadata": {},
   "source": [
    "id_labels_dict = {v: k for k, v in labels_dict.items()}"
   ],
   "outputs": []
  },
  {
   "cell_type": "code",
   "execution_count": 14,
   "id": "5a02c620",
   "metadata": {},
   "source": [
    "print(id_labels_dict[0], id_labels_dict[6])"
   ],
   "outputs": []
  },
  {
   "cell_type": "code",
   "execution_count": 15,
   "id": "847166f9",
   "metadata": {},
   "source": [
    "print(id_labels_dict[0], id_labels_dict[5])"
   ],
   "outputs": []
  },
  {
   "cell_type": "markdown",
   "id": "a421b5d7",
   "metadata": {},
   "source": [
    "## Processing/Filtering annotations that have freq < 5"
   ]
  },
  {
   "cell_type": "code",
   "execution_count": 16,
   "id": "58ea3ac3",
   "metadata": {},
   "source": [
    "freqs = freqs[freqs['Frequency'] < 5]\n",
    "freqs"
   ],
   "outputs": []
  },
  {
   "cell_type": "code",
   "execution_count": 18,
   "id": "72d16493",
   "metadata": {},
   "source": [
    "not_allowed_combinations = freqs['Label Combination'].apply(lambda x: x[0]).tolist()\n",
    "not_allowed_combinations"
   ],
   "outputs": []
  },
  {
   "cell_type": "markdown",
   "id": "cf98bcc3",
   "metadata": {},
   "source": [
    "## Remove rare labels from the rare label_combos "
   ]
  },
  {
   "cell_type": "markdown",
   "id": "36129c60",
   "metadata": {},
   "source": [
    "### Which labels are making the combos rare?"
   ]
  },
  {
   "cell_type": "code",
   "execution_count": 19,
   "id": "e8091290",
   "metadata": {},
   "source": [
    "import pickle\n",
    "import ast\n",
    "\n",
    "with open('../../gt_data/triple_inspected_May23rd/merged/labelId_categoryType_dict.pickle', 'rb') as f:\n",
    "    lId_category_dict = pickle.load(f)\n"
   ],
   "outputs": []
  },
  {
   "cell_type": "code",
   "execution_count": 20,
   "id": "48e39bb9",
   "metadata": {},
   "source": [
    "single_label_freqs = {}\n",
    "\n",
    "for i, row in df.iterrows():\n",
    "    label_list = ast.literal_eval(row['ilabel'])\n",
    "    for label in label_list:\n",
    "        if not label in single_label_freqs:\n",
    "            single_label_freqs[label] = 0\n",
    "        single_label_freqs[label] += 1\n",
    "\n",
    "single_label_freqs_df = pd.DataFrame.from_dict({'Label': single_label_freqs.keys(), 'Frequency': single_label_freqs.values()})\n",
    "single_label_freqs_df.head()"
   ],
   "outputs": []
  },
  {
   "cell_type": "code",
   "execution_count": 21,
   "id": "1fd30683",
   "metadata": {},
   "source": [
    "from matplotlib import pyplot as plt\n",
    "\n",
    "\n",
    "single_label_freqs_df = single_label_freqs_df.sort_values('Frequency', ascending=False, ignore_index=True)\n",
    "plt.figure(figsize=(15,8))\n",
    "single_label_freqs_df['Label'] = single_label_freqs_df['Label'].apply(lambda x: str(x))\n",
    "sns.barplot(single_label_freqs_df, x='Label', y='Frequency')"
   ],
   "outputs": []
  },
  {
   "cell_type": "markdown",
   "id": "c27fe6af",
   "metadata": {},
   "source": [
    "## Put a threshold for label freq \n",
    "If a single label x is appearing rarely, then remove that label from the combo. \n",
    "This allows us to still keep the bbox."
   ]
  },
  {
   "cell_type": "code",
   "execution_count": 22,
   "id": "2a867872",
   "metadata": {},
   "source": [
    "labels_more_than_100freq = single_label_freqs_df[single_label_freqs_df['Frequency']>=100]['Label'].tolist()\n",
    "labels_more_than_100freq = [int(l) for l in labels_more_than_100freq]"
   ],
   "outputs": []
  },
  {
   "cell_type": "code",
   "execution_count": 23,
   "id": "3ab9bee7",
   "metadata": {},
   "source": [
    "print(f'Number of remaining single labels: {len(labels_more_than_100freq)}')"
   ],
   "outputs": []
  },
  {
   "cell_type": "code",
   "execution_count": 24,
   "id": "fd7f6987",
   "metadata": {},
   "source": [
    "remaining_single_labels = [id_labels_dict[i] for i in labels_more_than_100freq]\n",
    "print(f\"Remaining single labels: {remaining_single_labels}\")"
   ],
   "outputs": []
  },
  {
   "cell_type": "code",
   "execution_count": 25,
   "id": "445f983b",
   "metadata": {},
   "source": [
    "type(not_allowed_combinations)"
   ],
   "outputs": []
  },
  {
   "cell_type": "code",
   "execution_count": 26,
   "id": "35c9d855",
   "metadata": {},
   "source": [
    "type(not_allowed_combinations[0])"
   ],
   "outputs": []
  },
  {
   "cell_type": "code",
   "execution_count": 27,
   "id": "ccf86f68",
   "metadata": {},
   "source": [
    "not_allowed_combinations = [ast.literal_eval(combo) for combo in not_allowed_combinations]"
   ],
   "outputs": []
  },
  {
   "cell_type": "code",
   "execution_count": 28,
   "id": "9fadae7c",
   "metadata": {},
   "source": [
    "def remove_rare_labels(label_ids):\n",
    "    if label_ids in not_allowed_combinations:\n",
    "        new_label_ids = [i for i in label_ids if i in labels_more_than_100freq]\n",
    "        if len(new_label_ids) == 0:\n",
    "            raise ValueError(f'Empty label list after label list {label_ids}!')\n",
    "        return str(new_label_ids)\n",
    "    return str(label_ids)"
   ],
   "outputs": []
  },
  {
   "cell_type": "code",
   "execution_count": 29,
   "id": "14cfb3f9",
   "metadata": {},
   "source": [
    "type(df['ilabel'][0])"
   ],
   "outputs": []
  },
  {
   "cell_type": "code",
   "execution_count": 30,
   "id": "6b476ae0",
   "metadata": {},
   "source": [
    "df['ilabel'] = df['ilabel'].apply(lambda x: ast.literal_eval(x))\n",
    "df['ilabel'] = df['ilabel'].apply(lambda x: remove_rare_labels(x))\n",
    "df['ilabel']"
   ],
   "outputs": []
  },
  {
   "cell_type": "markdown",
   "id": "917b34a8",
   "metadata": {},
   "source": [
    "Note that at this point, the size of the dataframe is the same as the size of the initial dataframe from the beginning of the notebook. This test makes sure that no bbox has been removed during this filtering process so far."
   ]
  },
  {
   "cell_type": "code",
   "execution_count": 31,
   "id": "f2a9ee48",
   "metadata": {},
   "source": [
    "freqs = combo_freq(df)\n",
    "freqs = freqs.sort_values('Frequency', ascending=False, ignore_index=True)\n",
    "sns.barplot(freqs, x='Label Combination', y='Frequency')"
   ],
   "outputs": []
  },
  {
   "cell_type": "code",
   "execution_count": 32,
   "id": "de6528f4",
   "metadata": {},
   "source": [
    "freqs"
   ],
   "outputs": []
  },
  {
   "cell_type": "code",
   "execution_count": 33,
   "id": "5597feb1",
   "metadata": {},
   "source": [
    "freqs[freqs['Frequency'] < 2].shape"
   ],
   "outputs": []
  },
  {
   "cell_type": "markdown",
   "id": "5615a4c2",
   "metadata": {},
   "source": [
    "### From here, we need to remove the files that contain the rare combos\n",
    "This is becauase the alternative is to remove the bbox! Which would no be feasible, since we would have an image with like 3 people in them, 2 with annotated bbox, and the other one not included. This is wrong."
   ]
  },
  {
   "cell_type": "code",
   "execution_count": 34,
   "id": "a5b282b0",
   "metadata": {},
   "source": [
    "freqs = freqs[freqs['Frequency'] < 2]\n",
    "not_allowed_combinations = freqs['Label Combination'].apply(lambda x: x[0]).tolist()\n",
    "not_allowed_combinations"
   ],
   "outputs": []
  },
  {
   "cell_type": "code",
   "execution_count": 35,
   "id": "1a6658e8",
   "metadata": {},
   "source": [
    "df['unique_ifile'] = df['data_source'] + df['ifile'].apply(lambda x: f'_{x}')\n",
    "to_be_removed_files = df[df['ilabel'].isin(not_allowed_combinations)]['unique_ifile'].tolist()\n",
    "to_be_removed_files"
   ],
   "outputs": []
  },
  {
   "cell_type": "code",
   "execution_count": 62,
   "id": "807631ec",
   "metadata": {},
   "source": [
    "df['unique_ifile'].nunique()"
   ],
   "outputs": []
  },
  {
   "cell_type": "code",
   "execution_count": 64,
   "id": "4ffd8d3b",
   "metadata": {},
   "source": [
    "df['unique_ifile'].nunique() - len(set(to_be_removed_files))"
   ],
   "outputs": []
  },
  {
   "cell_type": "code",
   "execution_count": 37,
   "id": "bbdd3689",
   "metadata": {},
   "source": [
    "filtered_df = df[~df['unique_ifile'].isin(to_be_removed_files)]"
   ],
   "outputs": []
  },
  {
   "cell_type": "code",
   "execution_count": 38,
   "id": "a033dffe",
   "metadata": {},
   "source": [
    "filtered_df.head()"
   ],
   "outputs": []
  },
  {
   "cell_type": "code",
   "execution_count": 63,
   "id": "c0a59097",
   "metadata": {},
   "source": [
    "filtered_df['unique_ifile'].nunique()"
   ],
   "outputs": []
  },
  {
   "cell_type": "code",
   "execution_count": 39,
   "id": "6169796f",
   "metadata": {},
   "source": [
    "freqs = combo_freq(filtered_df)\n",
    "freqs = freqs.sort_values('Frequency', ascending=False, ignore_index=True)\n",
    "sns.barplot(freqs, x='Label Combination', y='Frequency')"
   ],
   "outputs": []
  },
  {
   "cell_type": "code",
   "execution_count": 40,
   "id": "1830216d",
   "metadata": {},
   "source": [
    "freqs.shape"
   ],
   "outputs": []
  },
  {
   "cell_type": "code",
   "execution_count": 41,
   "id": "a624ea04",
   "metadata": {},
   "source": [
    "freqs[freqs['Frequency'] < 5].shape"
   ],
   "outputs": []
  },
  {
   "cell_type": "code",
   "execution_count": 42,
   "id": "ac327a10",
   "metadata": {},
   "source": [
    "unique_labels = set()\n",
    "for i, row in filtered_df.iterrows():\n",
    "    label_list = row['ilabel']\n",
    "    label_list = ast.literal_eval(label_list)\n",
    "    for l in label_list:\n",
    "        unique_labels.add(l)\n",
    "\n",
    "final_remaining_single_labels = [id_labels_dict[i] for i in unique_labels]\n",
    "print(f\"Final remaining single labels: {final_remaining_single_labels}\")"
   ],
   "outputs": []
  },
  {
   "cell_type": "code",
   "execution_count": 43,
   "id": "deaaf030",
   "metadata": {},
   "source": [
    "len(final_remaining_single_labels)"
   ],
   "outputs": []
  },
  {
   "cell_type": "markdown",
   "id": "de26d283",
   "metadata": {},
   "source": [
    "### Fix the num_labels column"
   ]
  },
  {
   "cell_type": "code",
   "execution_count": 44,
   "id": "40705d19",
   "metadata": {},
   "source": [
    "import ast\n",
    "filtered_df = filtered_df.drop(['num_labels'], axis=1)\n",
    "filtered_df['num_labels'] = filtered_df['ilabel'].apply(lambda x: len(ast.literal_eval(x)))\n",
    "filtered_df.head()"
   ],
   "outputs": []
  },
  {
   "cell_type": "markdown",
   "id": "b3ac6f7e",
   "metadata": {},
   "source": [
    "## Re-arrange the labels after thresholding"
   ]
  },
  {
   "cell_type": "code",
   "execution_count": 45,
   "id": "5a3353c8",
   "metadata": {},
   "source": [
    "id_labels_dict"
   ],
   "outputs": []
  },
  {
   "cell_type": "code",
   "execution_count": 46,
   "id": "7d0a2326",
   "metadata": {},
   "source": [
    "removed_labels = set(id_labels_dict.keys()) - unique_labels\n",
    "removed_labels"
   ],
   "outputs": []
  },
  {
   "cell_type": "code",
   "execution_count": 47,
   "id": "7811e263",
   "metadata": {},
   "source": [
    "new_id_dict = {key: value for key, value in id_labels_dict.items() if key not in removed_labels}\n",
    "new_id_dict"
   ],
   "outputs": []
  },
  {
   "cell_type": "code",
   "execution_count": 48,
   "id": "e4d628c0",
   "metadata": {},
   "source": [
    "final_id_dict = {}\n",
    "l_index = 0\n",
    "for k in new_id_dict:\n",
    "    final_id_dict[l_index] = new_id_dict[k]\n",
    "    l_index += 1\n",
    "\n",
    "final_id_dict"
   ],
   "outputs": []
  },
  {
   "cell_type": "code",
   "execution_count": 49,
   "id": "823c22cd",
   "metadata": {},
   "source": [
    "final_labels_dict = {v: k for k, v in final_id_dict.items()}\n",
    "final_labels_dict"
   ],
   "outputs": []
  },
  {
   "cell_type": "code",
   "execution_count": 50,
   "id": "4db26a4d",
   "metadata": {},
   "source": [
    "path = '../../gt_data/triple_inspected_May23rd/merged/label_id_dict_after_distr_thresholding.pickle'\n",
    "\n",
    "with open(path, 'wb') as f:\n",
    "    pickle.dump(final_labels_dict, f)"
   ],
   "outputs": []
  },
  {
   "cell_type": "code",
   "execution_count": 51,
   "id": "9f837c53",
   "metadata": {},
   "source": [
    "path = '../../gt_data/triple_inspected_May23rd/merged/label_id_dict_after_distr_thresholding.csv'\n",
    "labels_df = pd.DataFrame.from_dict({'label': final_id_dict.values(), 'id': final_id_dict.keys()})\n",
    "labels_df.to_csv(path, index=False)"
   ],
   "outputs": []
  },
  {
   "cell_type": "markdown",
   "id": "2a1c68ed",
   "metadata": {},
   "source": [
    "#### Fix label_id to category_type dict"
   ]
  },
  {
   "cell_type": "code",
   "execution_count": 52,
   "id": "5595d360",
   "metadata": {},
   "source": [
    "all_labels = set(final_labels_dict.keys())\n",
    "conditions = ['alone', 'group', 'couple/2people']\n",
    "states = ['sitting', 'standing', 'walking', 'running', 'biking', 'mobility aids', 'riding carriage']\n",
    "others = ['with luggage', 'with coffee or drinks', 'with bike', 'pet', 'kid', 'teenager', 'elderly', 'baby/infant']\n",
    "activities = list(all_labels - set(conditions) - set(states) - set(others))\n",
    "activities"
   ],
   "outputs": []
  },
  {
   "cell_type": "code",
   "execution_count": 53,
   "id": "0a7bb502",
   "metadata": {},
   "source": [
    "ids_category_dict = {}\n",
    "for label in conditions:\n",
    "    l_id = final_labels_dict[label]\n",
    "    ids_category_dict[l_id] = 'condition'\n",
    "\n",
    "for label in states:\n",
    "    l_id = final_labels_dict[label]\n",
    "    ids_category_dict[l_id] = 'state'\n",
    "    \n",
    "for label in activities:\n",
    "    l_id = final_labels_dict[label]\n",
    "    ids_category_dict[l_id] = 'activity'\n",
    "\n",
    "for label in others:\n",
    "    l_id = final_labels_dict[label]\n",
    "    ids_category_dict[l_id] = 'other'\n",
    "ids_category_dict"
   ],
   "outputs": []
  },
  {
   "cell_type": "code",
   "execution_count": 54,
   "id": "a865e441",
   "metadata": {},
   "source": [
    "ids_category_dict = dict(sorted(ids_category_dict.items()))\n",
    "ids_category_dict"
   ],
   "outputs": []
  },
  {
   "cell_type": "code",
   "execution_count": 55,
   "id": "1bf02cd8",
   "metadata": {},
   "source": [
    "import pickle\n",
    "\n",
    "path = '../../gt_data/triple_inspected_May23rd/merged/labelId_categoryType_dict_after_distr_thresholding.pickle'\n",
    "with open(path, 'wb') as f:\n",
    "    pickle.dump(ids_category_dict, f)"
   ],
   "outputs": []
  },
  {
   "cell_type": "markdown",
   "id": "9693ae36",
   "metadata": {},
   "source": [
    "### Fix label ids in the final bbox annotations"
   ]
  },
  {
   "cell_type": "code",
   "execution_count": 56,
   "id": "4778ed78",
   "metadata": {},
   "source": [
    "def new_label_ids(label_ids):\n",
    "    label_ids = ast.literal_eval(label_ids)\n",
    "    text_labels = [id_labels_dict[i] for i in label_ids]\n",
    "    final_label_ids = [final_labels_dict[t] for t in text_labels]\n",
    "    return final_label_ids"
   ],
   "outputs": []
  },
  {
   "cell_type": "code",
   "execution_count": 57,
   "id": "80c512c5",
   "metadata": {},
   "source": [
    "filtered_df['ilabel'] = filtered_df['ilabel'].apply(lambda x: new_label_ids(x))\n",
    "filtered_df.head()"
   ],
   "outputs": []
  },
  {
   "cell_type": "code",
   "execution_count": 59,
   "id": "cb4e70a5",
   "metadata": {},
   "source": [
    "filtered_df.shape"
   ],
   "outputs": []
  },
  {
   "cell_type": "code",
   "execution_count": 58,
   "id": "2ef57e74",
   "metadata": {},
   "source": [
    "path = '../../gt_data/triple_inspected_May23rd/merged/label_per_box_sanity_checked_removed_unwanted_labels_unified_labels_after_distr_thresholding.csv'\n",
    "filtered_df.to_csv(path, index=False)"
   ],
   "outputs": []
  },
  {
   "cell_type": "code",
   "execution_count": 60,
   "id": "b28a5b97",
   "metadata": {},
   "source": [
    "filtered_df['unique_ifile'].nunique()"
   ],
   "outputs": []
  },
  {
   "cell_type": "code",
   "execution_count": null,
   "id": "fb73e7d2",
   "metadata": {},
   "source": [],
   "outputs": []
  }
 ],
 "metadata": {
  "kernelspec": {
   "display_name": "Python 3 (ipykernel)",
   "language": "python",
   "name": "python3"
  },
  "language_info": {
   "codemirror_mode": {
    "name": "ipython",
    "version": 3
   },
   "file_extension": ".py",
   "mimetype": "text/x-python",
   "name": "python",
   "nbconvert_exporter": "python",
   "pygments_lexer": "ipython3",
   "version": "3.10.12"
  }
 },
 "nbformat": 4,
 "nbformat_minor": 5
}
