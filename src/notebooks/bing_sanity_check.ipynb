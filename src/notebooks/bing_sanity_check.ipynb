{
 "cells": [
  {
   "cell_type": "markdown",
   "id": "5885017e",
   "metadata": {},
   "source": [
    "# Bing"
   ]
  },
  {
   "cell_type": "markdown",
   "id": "c42dfba3",
   "metadata": {},
   "source": [
    "### Labels -> ID"
   ]
  },
  {
   "cell_type": "code",
   "execution_count": 2,
   "id": "81f14fd7",
   "metadata": {},
   "source": [
    "import pandas as pd\n",
    "\n",
    "label_ids_path = '../../gt_data/triple_inspected_May23rd/bing/label_idx.csv'\n",
    "\n",
    "labels_dict = {}\n",
    "\n",
    "df = pd.read_csv(label_ids_path)\n",
    "\n",
    "for i, row in df.iterrows():\n",
    "    label = row['label']\n",
    "    ilabel = row['ilabel']\n",
    "    if label in labels_dict:\n",
    "        raise ValueError(\"Label happening multiple times!\")\n",
    "    labels_dict[label] = ilabel"
   ],
   "outputs": []
  },
  {
   "cell_type": "code",
   "execution_count": 3,
   "id": "a3166106",
   "metadata": {},
   "source": [
    "labels_dict"
   ],
   "outputs": []
  },
  {
   "cell_type": "markdown",
   "id": "f6f766b9",
   "metadata": {},
   "source": [
    "## Sanity Rules"
   ]
  },
  {
   "cell_type": "code",
   "execution_count": 4,
   "id": "2249672d",
   "metadata": {},
   "source": [
    "alone_id = labels_dict['alone']\n",
    "couple_id = labels_dict['couple/2people']\n",
    "group_id = labels_dict['group']\n",
    "\n",
    "def valid_conditions_combo(label_ids):\n",
    "    if alone_id in label_ids and couple_id in label_ids:\n",
    "        return False\n",
    "    \n",
    "    if alone_id in label_ids and group_id in label_ids:\n",
    "        return False\n",
    "    \n",
    "    if couple_id in label_ids and group_id in label_ids:\n",
    "        return False\n",
    "    \n",
    "    return True"
   ],
   "outputs": []
  },
  {
   "cell_type": "code",
   "execution_count": 5,
   "id": "ccdfbe4c",
   "metadata": {},
   "source": [
    "sitting_id = labels_dict['sitting']\n",
    "standing_id = labels_dict['standing']\n",
    "walking_id = labels_dict['walking']\n",
    "running_id = labels_dict['running']\n",
    "biking_id = labels_dict['biking']\n",
    "riding_carriage_id = labels_dict['riding carriage']\n",
    "on_wheelchair_id = labels_dict['on wheelchair']\n",
    "mobility_aid_id = labels_dict['mobility aids']\n",
    "\n",
    "crosswalk_id = labels_dict['crossing crosswalk']\n",
    "dining_id = labels_dict['dining']\n",
    "vendor_id = labels_dict['street vendors']\n",
    "shopping_id = labels_dict['shopping']\n",
    "load_unload_id = labels_dict['load/unload packages from car/truck']\n",
    "waiting_food_id = labels_dict['waiting for food/drinks']\n",
    "waiting_bus_id = labels_dict['waiting in bus station']\n",
    "working_laptop_id = labels_dict['working/laptop']\n",
    "picnic_id = labels_dict['picnic']\n",
    "push_wheelchair_id = labels_dict['pushing wheelchair']\n",
    "\n",
    "pet_id = labels_dict['pet']\n"
   ],
   "outputs": []
  },
  {
   "cell_type": "code",
   "execution_count": 6,
   "id": "3560738c",
   "metadata": {},
   "source": [
    "\n",
    "def valid_conditions_state_action_combos(label_ids):\n",
    "    if alone_id in label_ids and sitting_id in label_ids and crosswalk_id in label_ids:\n",
    "        return False\n",
    "    \n",
    "    if (vendor_id in label_ids) and (sitting_id not in label_ids or standing_id not in label_ids):\n",
    "        return False\n",
    "    \n",
    "    if (shopping_id in label_ids) and (sitting_id not in label_ids or standing_id not in label_ids):\n",
    "        return False\n",
    "    \n",
    "    if (load_unload_id in label_ids) and (sitting_id not in label_ids or standing_id not in label_ids):\n",
    "        return False\n",
    "    \n",
    "    if (waiting_bus_id in label_ids) and (sitting_id not in label_ids or standing_id not in label_ids):\n",
    "        return False\n",
    "    \n",
    "    if (waiting_food_id in label_ids) and (sitting_id not in label_ids or standing_id not in label_ids):\n",
    "        return False\n",
    "    \n",
    "    if (working_laptop_id in label_ids) and (sitting_id not in label_ids or standing_id not in label_ids):\n",
    "        return False\n",
    "    \n",
    "    if (picnic_id in label_ids) and (sitting_id not in label_ids or standing_id not in label_ids):\n",
    "        return False\n",
    "    \n",
    "    if alone_id in label_ids and on_wheelchair_id in label_ids and push_wheelchair_id in label_ids:\n",
    "        return False\n",
    "    \n",
    "    return True\n",
    "    \n",
    "    "
   ],
   "outputs": []
  },
  {
   "cell_type": "code",
   "execution_count": 7,
   "id": "15806a4b",
   "metadata": {},
   "source": [
    "state_labels = set([on_wheelchair_id, walking_id, sitting_id, standing_id, running_id, biking_id, riding_carriage_id, mobility_aid_id])\n",
    "condition_labels = set([alone_id, couple_id, group_id])\n",
    "\n",
    "def valid_alone_state_counts(label_ids):\n",
    "    if alone_id in label_ids or couple_id in label_ids:\n",
    "        intersection = set(label_ids).intersection(state_labels)\n",
    "        if len(intersection) > 1 and alone_id in label_ids:\n",
    "            return False\n",
    "        \n",
    "        if len(intersection) > 2 and couple_id in label_ids:\n",
    "            return False\n",
    "        \n",
    "    return True\n",
    "\n",
    "def valid_no_condition(label_ids):\n",
    "    intersection = set(label_ids).intersection(condition_labels)\n",
    "    if len(intersection) == 0:\n",
    "        if pet_id in label_ids:\n",
    "            return True\n",
    "        return False\n",
    "    return True\n",
    "\n",
    "def valid_no_state(label_ids):\n",
    "    intersection = set(label_ids).intersection(state_labels)\n",
    "    if len(intersection) == 0:\n",
    "        if pet_id in label_ids:\n",
    "            return True\n",
    "        return False\n",
    "    return True\n",
    "    "
   ],
   "outputs": []
  },
  {
   "cell_type": "markdown",
   "id": "b49d0b5f",
   "metadata": {},
   "source": [
    "## Sanity Checks"
   ]
  },
  {
   "cell_type": "code",
   "execution_count": 8,
   "id": "541be370",
   "metadata": {},
   "source": [
    "import pandas as pd\n",
    "import numpy as np"
   ],
   "outputs": []
  },
  {
   "cell_type": "code",
   "execution_count": 9,
   "id": "cb7408a0",
   "metadata": {},
   "source": [
    "def converter(instr):\n",
    "    return np.fromstring(instr[1:-1],sep=',', dtype=int)"
   ],
   "outputs": []
  },
  {
   "cell_type": "code",
   "execution_count": 10,
   "id": "ffd6cdbb",
   "metadata": {},
   "source": [
    "gt_bbox_labels_path = '../../gt_data/triple_inspected_May23rd/bing/per_file_per_box.csv'"
   ],
   "outputs": []
  },
  {
   "cell_type": "code",
   "execution_count": 11,
   "id": "bf3785c1",
   "metadata": {},
   "source": [
    "gt_bbox_labels = pd.read_csv(gt_bbox_labels_path, converters={'ilabel':converter})\n",
    "gt_bbox_labels.head()"
   ],
   "outputs": []
  },
  {
   "cell_type": "code",
   "execution_count": 12,
   "id": "0d55fcf4",
   "metadata": {},
   "source": [
    "gt_bbox_labels.columns"
   ],
   "outputs": []
  },
  {
   "cell_type": "code",
   "execution_count": 13,
   "id": "21270a53",
   "metadata": {},
   "source": [
    "gt_bbox_labels['ilabel'] = gt_bbox_labels['ilabel'].apply(lambda x: x.tolist())\n",
    "gt_bbox_labels['ilabel'].head()"
   ],
   "outputs": []
  },
  {
   "cell_type": "code",
   "execution_count": 14,
   "id": "2fb11bfe",
   "metadata": {},
   "source": [
    "gt_bbox_labels['is_valid'] = gt_bbox_labels['ilabel'].apply(lambda x: valid_conditions_combo(x))\n",
    "gt_bbox_labels['is_valid'] = gt_bbox_labels['ilabel'].apply(lambda x: valid_conditions_state_action_combos(x))\n",
    "gt_bbox_labels['is_valid'] = gt_bbox_labels['ilabel'].apply(lambda x: valid_alone_state_counts(x))\n",
    "gt_bbox_labels['is_valid'] = gt_bbox_labels['ilabel'].apply(lambda x: valid_no_condition(x))\n",
    "gt_bbox_labels['is_valid'] = gt_bbox_labels['ilabel'].apply(lambda x: valid_no_state(x))"
   ],
   "outputs": []
  },
  {
   "cell_type": "code",
   "execution_count": 15,
   "id": "17264737",
   "metadata": {},
   "source": [
    "gt_bbox_labels['is_valid'].head()"
   ],
   "outputs": []
  },
  {
   "cell_type": "code",
   "execution_count": 16,
   "id": "11946fdc",
   "metadata": {},
   "source": [
    "gt_bbox_labels['is_valid'].sum()"
   ],
   "outputs": []
  },
  {
   "cell_type": "code",
   "execution_count": 17,
   "id": "f0eac206",
   "metadata": {},
   "source": [
    "gt_bbox_labels.shape"
   ],
   "outputs": []
  },
  {
   "cell_type": "code",
   "execution_count": 18,
   "id": "3835887a",
   "metadata": {},
   "source": [
    "100 * gt_bbox_labels['is_valid'].sum() / gt_bbox_labels.shape[0]"
   ],
   "outputs": []
  },
  {
   "cell_type": "code",
   "execution_count": 19,
   "id": "e81585d8",
   "metadata": {},
   "source": [
    "gt_bbox_labels_sanity_invalid = gt_bbox_labels[gt_bbox_labels['is_valid']==False]\n",
    "gt_bbox_labels_sanity_invalid"
   ],
   "outputs": []
  },
  {
   "cell_type": "markdown",
   "id": "2080c028",
   "metadata": {},
   "source": [
    "## Other tests"
   ]
  },
  {
   "cell_type": "code",
   "execution_count": 11,
   "id": "b5354a5e",
   "metadata": {},
   "source": [
    "gt_bbox_labesl['ilabel'].isin([43]).sum()"
   ],
   "outputs": []
  },
  {
   "cell_type": "code",
   "execution_count": 18,
   "id": "be23afb9",
   "metadata": {},
   "source": [
    "labels = gt_bbox_labesl['ilabel'].tolist()\n",
    "cnt = 0\n",
    "\n",
    "for i, row in gt_bbox_labesl.iterrows():\n",
    "    if 43 in row['ilabel']:\n",
    "        print(row)"
   ],
   "outputs": []
  },
  {
   "cell_type": "code",
   "execution_count": 14,
   "id": "3ca3bbfd",
   "metadata": {},
   "source": [
    "cnt"
   ],
   "outputs": []
  }
 ],
 "metadata": {
  "kernelspec": {
   "display_name": "Python 3 (ipykernel)",
   "language": "python",
   "name": "python3"
  },
  "language_info": {
   "codemirror_mode": {
    "name": "ipython",
    "version": 3
   },
   "file_extension": ".py",
   "mimetype": "text/x-python",
   "name": "python",
   "nbconvert_exporter": "python",
   "pygments_lexer": "ipython3",
   "version": "3.10.12"
  }
 },
 "nbformat": 4,
 "nbformat_minor": 5
}
